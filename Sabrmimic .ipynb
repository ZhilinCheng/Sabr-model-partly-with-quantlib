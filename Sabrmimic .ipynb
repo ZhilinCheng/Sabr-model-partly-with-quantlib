{
 "cells": [
  {
   "cell_type": "code",
   "execution_count": 1,
   "id": "2136357d",
   "metadata": {},
   "outputs": [],
   "source": [
    "import os\n",
    "import sys\n",
    "import math\n",
    "import pickle\n",
    "import pandas as pd\n",
    "import numpy as np\n",
    "from numpy import interp\n",
    "from scipy.optimize import minimize\n",
    "from scipy.interpolate import UnivariateSpline\n",
    "import QuantLib as ql\n",
    "from datetime import timedelta,datetime"
   ]
  },
  {
   "cell_type": "code",
   "execution_count": 32,
   "id": "236a998f",
   "metadata": {},
   "outputs": [],
   "source": [
    "import unittest\n",
    "import QuantLib as ql\n",
    "from datetime import datetime\n",
    "\n",
    "# Helper Functions\n",
    "def py2ql_date(pydate):\n",
    "    return ql.Date(pydate.day, pydate.month, pydate.year)\n",
    "\n",
    "class BSmodel:\n",
    "    def __init__(self, strike, maturity, OptType):\n",
    "        if OptType == 'C':\n",
    "            payoff = ql.PlainVanillaPayoff(ql.Option.Call, strike)\n",
    "        elif OptType == 'P':\n",
    "            payoff = ql.PlainVanillaPayoff(ql.Option.Put, strike)\n",
    "        else:\n",
    "            raise ValueError(\"OptType must be 'C' or 'P'\")\n",
    "        \n",
    "        # European call/put\n",
    "        exercise = ql.EuropeanExercise(maturity)  \n",
    "        self.european_option = ql.VanillaOption(payoff, exercise)\n",
    "\n",
    "    def price(self, valDate, und_price, volatility, risk_free_rate, dividend_rate=0):\n",
    "        ql.Settings.instance().evaluationDate = valDate\n",
    "        \n",
    "        # Market parameters\n",
    "        und_handle = ql.QuoteHandle(ql.SimpleQuote(und_price))\n",
    "        flat_ts = ql.YieldTermStructureHandle(\n",
    "            ql.FlatForward(valDate, ql.QuoteHandle(ql.SimpleQuote(risk_free_rate)), ql.Actual365Fixed())\n",
    "        )\n",
    "        dividend_yield = ql.YieldTermStructureHandle(\n",
    "            ql.FlatForward(valDate, ql.QuoteHandle(ql.SimpleQuote(dividend_rate)), ql.Actual365Fixed())\n",
    "        )\n",
    "        flat_vol = ql.BlackVolTermStructureHandle(\n",
    "            ql.BlackConstantVol(valDate, ql.UnitedStates(ql.UnitedStates.NYSE), ql.QuoteHandle(ql.SimpleQuote(volatility)), ql.Actual365Fixed())\n",
    "        )\n",
    "\n",
    "        # Black-Scholes-Merton process\n",
    "        process = ql.BlackScholesMertonProcess(\n",
    "            und_handle, dividend_yield, flat_ts, flat_vol\n",
    "        )\n",
    "        self.european_option.setPricingEngine(ql.AnalyticEuropeanEngine(process))\n",
    "        return self.european_option.NPV()\n"
   ]
  },
  {
   "cell_type": "code",
   "execution_count": 35,
   "id": "ed8202af",
   "metadata": {},
   "outputs": [
    {
     "name": "stderr",
     "output_type": "stream",
     "text": [
      ".\n",
      "----------------------------------------------------------------------\n",
      "Ran 1 test in 0.001s\n",
      "\n",
      "OK\n"
     ]
    }
   ],
   "source": [
    "import unittest\n",
    "from datetime import datetime\n",
    "\n",
    "class TestBSmodel(unittest.TestCase):\n",
    "    def test_bs_model_pricing(self):\n",
    "        # Set test parameters\n",
    "        strike_price = 100\n",
    "        maturity_date = py2ql_date(datetime(2024, 12, 31))  # Expiration date\n",
    "        option_type = 'C'  # Call option\n",
    "        valuation_date = py2ql_date(datetime(2024, 2, 1))  # Valuation date\n",
    "        spot_price = 105  # Spot price\n",
    "        volatility = 0.2  # 20% volatility\n",
    "        risk_free_rate = 0.05  # 5% risk-free rate\n",
    "        dividend_yield = 0.02  # 2% dividend yield\n",
    "\n",
    "        # Create option pricing model\n",
    "        option = BSmodel(strike_price, maturity_date, option_type)\n",
    "        option_price = option.price(valuation_date, spot_price, volatility, risk_free_rate, dividend_yield)\n",
    "\n",
    "        # Set a reasonable price range (adjustable)\n",
    "        self.assertTrue(5.0 < option_price < 100.0, f\"Unexpected option price: {option_price}\")\n",
    "\n",
    "if __name__ == '__main__':\n",
    "    unittest.main(argv=['first-arg-is-ignored'], exit=False)\n",
    "\n",
    "\n"
   ]
  },
  {
   "cell_type": "code",
   "execution_count": null,
   "id": "f9634c55",
   "metadata": {},
   "outputs": [],
   "source": []
  },
  {
   "cell_type": "code",
   "execution_count": null,
   "id": "18e6b12c",
   "metadata": {},
   "outputs": [],
   "source": []
  },
  {
   "cell_type": "code",
   "execution_count": null,
   "id": "6eac4ef0",
   "metadata": {},
   "outputs": [],
   "source": []
  }
 ],
 "metadata": {
  "kernelspec": {
   "display_name": "Python 3 (ipykernel)",
   "language": "python",
   "name": "python3"
  },
  "language_info": {
   "codemirror_mode": {
    "name": "ipython",
    "version": 3
   },
   "file_extension": ".py",
   "mimetype": "text/x-python",
   "name": "python",
   "nbconvert_exporter": "python",
   "pygments_lexer": "ipython3",
   "version": "3.11.5"
  }
 },
 "nbformat": 4,
 "nbformat_minor": 5
}
