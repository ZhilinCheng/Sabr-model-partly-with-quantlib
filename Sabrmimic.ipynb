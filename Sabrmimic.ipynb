{
 "cells": [
  {
   "cell_type": "code",
   "execution_count": 12,
   "id": "2136357d",
   "metadata": {},
   "outputs": [],
   "source": [
    "import os\n",
    "import sys\n",
    "import math\n",
    "import pickle\n",
    "import pandas as pd\n",
    "import numpy as np\n",
    "from numpy import interp\n",
    "from scipy.optimize import minimize\n",
    "from scipy.interpolate import UnivariateSpline\n",
    "import QuantLib as ql\n",
    "from datetime import timedelta,datetime"
   ]
  },
  {
   "cell_type": "code",
   "execution_count": 3,
   "id": "236a998f",
   "metadata": {},
   "outputs": [],
   "source": [
    "def py2ql_date(pydate):\n",
    "    return ql.Date(pydate.day,pydate.month,pydate.year)\n",
    "def time_tango(date):\n",
    "    return datetime.strptime(\"{}\".format(date), \"%Y%m%d\")\n",
    "\n",
    "def getYearFrac(date0,date1):\n",
    "    day_count=q1.ActualFixed()\n",
    "    yrs = day_count.yearFraction(py2ql_date(date0), py2ql_date(date1))\n",
    "    return yrs\n",
    "class BSmodel:\n",
    "    def __init__(self,strike,maturity,OptType):\n",
    "        if OptType=='C':\n",
    "            payoff = ql.PlainVanillaPayoff(ql.Option.Call, strike)\n",
    "        elif OptType=='P':\n",
    "            payoff=ql.PlainVannillaPayoff(ql.Option.Put,strike)\n",
    "        matDate = ql.EuropeanExercise(maturity)\n",
    "        self.european_option = ql.VanillaOption(payoff, exercise)\n",
    "    def price(self,valDate,und_price, volatility, risk_free_rate, dividend_rate=0):\n",
    "        #BS model parameter\n",
    "        day_count = ql.Actual365Fixed()\n",
    "        calendar = ql.UnitedStates()\n",
    "        ql.Settings.instance().evaluationDate = valDate\n",
    "        und_Handle=ql.QuoteHandle(ql.simpleQuate(und_price))\n",
    "        flat_ts=ql.YieldTermstructureHandle(ql.FlatForward(valDate,risk_free_rate,day_count))\n",
    "        flat_vol=ql.BlackVolTermStructureHandle(ql.BlackConstantVol(valDate,calender,volatility,day_count))\n",
    "        self.process = ql.BlackScholesMertonProcess(und_handle, dividend_yield, flat_ts, flat_vol_ts)\n",
    "        self.european_option.setPricingEngine(ql.AnalyticEuropeanEngine(self.process))"
   ]
  },
  {
   "cell_type": "code",
   "execution_count": null,
   "id": "ed8202af",
   "metadata": {},
   "outputs": [],
   "source": []
  }
 ],
 "metadata": {
  "kernelspec": {
   "display_name": "Python 3 (ipykernel)",
   "language": "python",
   "name": "python3"
  },
  "language_info": {
   "codemirror_mode": {
    "name": "ipython",
    "version": 3
   },
   "file_extension": ".py",
   "mimetype": "text/x-python",
   "name": "python",
   "nbconvert_exporter": "python",
   "pygments_lexer": "ipython3",
   "version": "3.11.5"
  }
 },
 "nbformat": 4,
 "nbformat_minor": 5
}
